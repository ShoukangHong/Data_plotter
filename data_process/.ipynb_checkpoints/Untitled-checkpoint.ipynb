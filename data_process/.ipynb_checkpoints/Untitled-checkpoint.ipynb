{
 "cells": [
  {
   "cell_type": "code",
   "execution_count": null,
   "id": "1419d72b",
   "metadata": {},
   "outputs": [],
   "source": [
    "class FileData:\n",
    "    def __init__(self, fileAddress):\n",
    "        self._fileInfo =     \n",
    "        self.read()\n",
    "        \n",
    "    def loadFileInfo(self, file_address):\n",
    "        '''given a file address, format it and return file info data({address: , path: , name: , type: })'''\n",
    "        pass        \n",
    "    def loadRawData(self, file_address):\n",
    "        '''given a file address, return the data as a string'''\n",
    "        pass    \n",
    "    def formatRawData(self, rawData):\n",
    "        '''given raw data, format it to meet certain criteria.'''\n",
    "        pass            \n",
    "    def setDataTable(self, body, regex):\n",
    "        '''given the data and regular expression, seperate the data into a 2D table.'''\n",
    "        pass\n",
    "    \n",
    "    def setDataRange(self, startCondition, endCondition):\n",
    "        pass\n",
    "    \n",
    "    def setHeaderAndBody(self, dataTable, regex):\n",
    "        '''given the data table and regular expression, identify header row and body row, return header row and body row'''\n",
    "        pass\n",
    "    \n",
    "    def addDataOfInterest(self, regex):\n",
    "        pass\n",
    "    \n",
    "    def processDataOfInterest(self, expression)\n",
    "    \n",
    "    def setXCol(self, regex):\n",
    "        pass\n",
    "        \n",
    "    def setYCol(self, regex):\n",
    "        pass\n",
    "    \n",
    "    def setXLabel(self, name):\n",
    "        pass\n",
    "    \n",
    "    def setYLabel(self, name):\n",
    "        pass\n",
    "    \n",
    "    def setXName(self, name):\n",
    "        pass\n",
    "    \n",
    "    def setYName(self.name):\n",
    "        pass\n",
    "    "
   ]
  }
 ],
 "metadata": {
  "kernelspec": {
   "display_name": "Python 3",
   "language": "python",
   "name": "python3"
  },
  "language_info": {
   "codemirror_mode": {
    "name": "ipython",
    "version": 3
   },
   "file_extension": ".py",
   "mimetype": "text/x-python",
   "name": "python",
   "nbconvert_exporter": "python",
   "pygments_lexer": "ipython3",
   "version": "3.8.8"
  }
 },
 "nbformat": 4,
 "nbformat_minor": 5
}
