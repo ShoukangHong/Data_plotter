{
 "cells": [
  {
   "cell_type": "code",
   "execution_count": 29,
   "id": "468c7665",
   "metadata": {
    "scrolled": false
   },
   "outputs": [
    {
     "name": "stdout",
     "output_type": "stream",
     "text": [
      "test 0 ...pass\n",
      "test 1 ...pass\n",
      "test 2 ...pass\n",
      "test 3 ...pass\n",
      "test 4 ...pass\n",
      "all test of LoadDocInfo passed!\n"
     ]
    },
    {
     "data": {
      "text/plain": [
       "<unit_test.test_DataManager.DataManagerTester at 0x204db2563a0>"
      ]
     },
     "execution_count": 29,
     "metadata": {},
     "output_type": "execute_result"
    }
   ],
   "source": [
    "import importlib\n",
    "from data_process import Plotter_Core\n",
    "from unit_test import test_DataManager\n",
    "importlib.reload(Plotter_Core)\n",
    "importlib.reload(test_DataManager)\n",
    "test_DataManager.DataManagerTester()"
   ]
  },
  {
   "cell_type": "code",
   "execution_count": null,
   "id": "4a485306",
   "metadata": {
    "scrolled": true
   },
   "outputs": [],
   "source": []
  },
  {
   "cell_type": "code",
   "execution_count": null,
   "id": "600b1503",
   "metadata": {},
   "outputs": [],
   "source": []
  },
  {
   "cell_type": "code",
   "execution_count": null,
   "id": "00c6e28b",
   "metadata": {},
   "outputs": [],
   "source": []
  }
 ],
 "metadata": {
  "kernelspec": {
   "display_name": "Python 3",
   "language": "python",
   "name": "python3"
  },
  "language_info": {
   "codemirror_mode": {
    "name": "ipython",
    "version": 3
   },
   "file_extension": ".py",
   "mimetype": "text/x-python",
   "name": "python",
   "nbconvert_exporter": "python",
   "pygments_lexer": "ipython3",
   "version": "3.8.8"
  }
 },
 "nbformat": 4,
 "nbformat_minor": 5
}
